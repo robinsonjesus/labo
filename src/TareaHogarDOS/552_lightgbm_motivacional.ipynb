{
 "cells": [
  {
   "cell_type": "code",
   "execution_count": 1,
   "id": "ad076d57",
   "metadata": {},
   "outputs": [
    {
     "data": {
      "text/html": [
       "<table>\n",
       "<thead><tr><th></th><th scope=col>used</th><th scope=col>(Mb)</th><th scope=col>gc trigger</th><th scope=col>(Mb)</th><th scope=col>max used</th><th scope=col>(Mb)</th></tr></thead>\n",
       "<tbody>\n",
       "\t<tr><th scope=row>Ncells</th><td>508598 </td><td>27.2   </td><td>1142174</td><td>61     </td><td> 621925</td><td>33.3   </td></tr>\n",
       "\t<tr><th scope=row>Vcells</th><td>942701 </td><td> 7.2   </td><td>8388608</td><td>64     </td><td>1601596</td><td>12.3   </td></tr>\n",
       "</tbody>\n",
       "</table>\n"
      ],
      "text/latex": [
       "\\begin{tabular}{r|llllll}\n",
       "  & used & (Mb) & gc trigger & (Mb) & max used & (Mb)\\\\\n",
       "\\hline\n",
       "\tNcells & 508598  & 27.2    & 1142174 & 61      &  621925 & 33.3   \\\\\n",
       "\tVcells & 942701  &  7.2    & 8388608 & 64      & 1601596 & 12.3   \\\\\n",
       "\\end{tabular}\n"
      ],
      "text/markdown": [
       "\n",
       "| <!--/--> | used | (Mb) | gc trigger | (Mb) | max used | (Mb) |\n",
       "|---|---|---|---|---|---|---|\n",
       "| Ncells | 508598  | 27.2    | 1142174 | 61      |  621925 | 33.3    |\n",
       "| Vcells | 942701  |  7.2    | 8388608 | 64      | 1601596 | 12.3    |\n",
       "\n"
      ],
      "text/plain": [
       "       used   (Mb) gc trigger (Mb) max used (Mb)\n",
       "Ncells 508598 27.2 1142174    61    621925  33.3\n",
       "Vcells 942701  7.2 8388608    64   1601596  12.3"
      ]
     },
     "metadata": {},
     "output_type": "display_data"
    },
    {
     "name": "stderr",
     "output_type": "stream",
     "text": [
      "Loading required package: data.table\n",
      "Warning message:\n",
      "\"package 'data.table' was built under R version 3.6.3\"Loading required package: lightgbm\n",
      "Warning message:\n",
      "\"package 'lightgbm' was built under R version 3.6.3\""
     ]
    },
    {
     "ename": "ERROR",
     "evalue": "Error in lgb.Dataset(data = data.matrix(dataset[, campos_buenos, with = FALSE]), : no se pudo encontrar la función \"lgb.Dataset\"\n",
     "output_type": "error",
     "traceback": [
      "Error in lgb.Dataset(data = data.matrix(dataset[, campos_buenos, with = FALSE]), : no se pudo encontrar la función \"lgb.Dataset\"\nTraceback:\n"
     ]
    }
   ],
   "source": [
    "# LightGBM  Motivacional\n",
    "# para motivar a los alumnos a hacer la  \"Tarea Hogar DOS\"\n",
    "# viendo que desde el inicio de la tarea logran ganancias superadoras\n",
    "# la salida queda en  \"./labo/exp/KA552/KA_552_001.csv\"\n",
    "\n",
    "#los DOS puntos novedosos que se ven en este script\n",
    "# 1. Se entrena  con  POS = { BAJA+1, BAJA+2 }    los BAJA+1 en realidad estan mas enfermos que los BAJA+2\n",
    "#    Era forzar mucho al algoritmo agrupar los BAJA¿1 con los CONTINUA \n",
    "# 2. El punto anterior obliga a buscar una probabilidad de corte DISTINTA  a 1/60\n",
    "\n",
    "# utilizar la primer semilla propia\n",
    "\n",
    "#limpio la memoria\n",
    "rm( list=ls() )  #remove all objects\n",
    "gc()             #garbage collection\n",
    "\n",
    "require(\"data.table\")\n",
    "require(\"lightgbm\")\n",
    "\n",
    "\n",
    "ksemilla  <- 333333  #poner aqui la PRIMERA de sus cinco semillas\n",
    "\n",
    "#Aqui se debe poner la carpeta de la computadora local\n",
    "setwd(\"C:\\\\Users\\\\Tomás García\\\\Documents\\\\MD\")   #Establezco el Working Directory\n",
    "\n",
    "#cargo el dataset donde voy a entrenar\n",
    "dataset  <- fread(\"./datasets/paquete_premium_202011.csv\", stringsAsFactors= TRUE)\n",
    "\n",
    "\n",
    "#paso la clase a binaria que tome valores {0,1}  enteros\n",
    "#set trabaja con la clase  POS = { BAJA+1, BAJA+2 } \n",
    "#esta estrategia es MUY importante\n",
    "dataset[ , clase01 := ifelse( clase_ternaria %in%  c(\"BAJA+2\",\"BAJA+1\"), 1L, 0L) ]\n",
    "\n",
    "#los campos que se van a utilizar\n",
    "campos_buenos  <- setdiff( colnames(dataset), c(\"clase_ternaria\",\"clase01\") )\n",
    "\n",
    "\n",
    "#dejo los datos en el formato que necesita LightGBM\n",
    "dtrain  <- lgb.Dataset( data= data.matrix(  dataset[ , campos_buenos, with=FALSE]),\n",
    "                        label= dataset$clase01 )\n",
    "\n",
    "\n",
    "#genero el modelo con los parametros por default\n",
    "#estos hiperparametros  salieron de una Optmizacion Bayesiana\n",
    "modelo  <- lgb.train( data= dtrain,\n",
    "                      param= list( objective=        \"binary\",\n",
    "                                   max_bin=              31,\n",
    "                                   learning_rate=       0.067,\n",
    "                                   num_iterations=      128,\n",
    "                                   num_leaves=          100,\n",
    "                                   min_data_in_leaf=   1700,\n",
    "                                   feature_fraction=    0.37,\n",
    "                                   seed=               ksemilla   #aqui se utiliza SU primer semilla\n",
    "                                  )\n",
    "                    )\n",
    "\n",
    "#aplico el modelo a los datos sin clase\n",
    "dapply  <- fread(\"./datasets/paquete_premium_202101.csv\")\n",
    "\n",
    "#aplico el modelo a los datos nuevos\n",
    "prediccion  <- predict( modelo, \n",
    "                        data.matrix( dapply[, campos_buenos, with=FALSE ])                                 )\n",
    "\n",
    "\n",
    "#Genero la entrega para Kaggle\n",
    "#Atencion ya NO corto por  1/60,  sino que busque el punto de corte optimo\n",
    "entrega  <- as.data.table( list( \"numero_de_cliente\"= dapply[  , numero_de_cliente],\n",
    "                                 \"Predicted\"= as.integer(prediccion > 0.023)   ) ) #ATENCION  no es  1/60\n",
    "\n",
    "#guardo el resultado\n",
    "#creo las carpetas\n",
    "dir.create( \"./labo/exp/\",  showWarnings = FALSE ) \n",
    "dir.create( \"./labo/exp/KA5520/\", showWarnings = FALSE )\n",
    "setwd( \"./labo/exp/KA5520/\" )\n",
    "\n",
    "archivo_salida  <- \"KA_552_001.csv\"\n",
    "\n",
    "#genero el archivo para Kaggle\n",
    "fwrite( entrega, \n",
    "        file= archivo_salida, \n",
    "        sep= \",\" )\n",
    "\n",
    "\n",
    "#ahora imprimo la importancia de variables\n",
    "tb_importancia  <-  as.data.table( lgb.importance(modelo) ) \n",
    "archivo_importancia  <- \"552_importancia_001.txt\"\n",
    "\n",
    "fwrite( tb_importancia, \n",
    "        file= archivo_importancia, \n",
    "        sep= \"\\t\" )\n",
    "\n",
    "\n",
    "#cuento cuantos 1's tiene la prediccion\n",
    "#cuantos estimulos estoy enviando para retener clientes\n",
    "entrega[  , sum( Predicted ) ]"
   ]
  },
  {
   "cell_type": "code",
   "execution_count": null,
   "id": "1c2b79bb",
   "metadata": {},
   "outputs": [],
   "source": [
    "install.packages(\"lightgbm\", repos = \"https://cran.r-project.org\")"
   ]
  }
 ],
 "metadata": {
  "kernelspec": {
   "display_name": "R",
   "language": "R",
   "name": "ir"
  },
  "language_info": {
   "codemirror_mode": "r",
   "file_extension": ".r",
   "mimetype": "text/x-r-source",
   "name": "R",
   "pygments_lexer": "r",
   "version": "3.6.1"
  }
 },
 "nbformat": 4,
 "nbformat_minor": 5
}
