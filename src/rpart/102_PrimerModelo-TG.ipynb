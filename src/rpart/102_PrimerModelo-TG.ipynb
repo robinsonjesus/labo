{
 "cells": [
  {
   "cell_type": "markdown",
   "metadata": {},
   "source": [
    "# Modelo de árbol de decisión"
   ]
  },
  {
   "cell_type": "markdown",
   "metadata": {},
   "source": [
    "Árbol elemental con libreria rpart, es un ejemplo sencillo para introducirnos a la librería y al modelo."
   ]
  },
  {
   "cell_type": "markdown",
   "metadata": {},
   "source": [
    "### 1er Paso\n",
    "\n",
    "Debe tener instaladas las librerias  data.table  ,  rpart   y rpart.plot"
   ]
  },
  {
   "cell_type": "code",
   "execution_count": 144,
   "metadata": {},
   "outputs": [],
   "source": [
    "library(\"rpart.plot\")"
   ]
  },
  {
   "cell_type": "code",
   "execution_count": 145,
   "metadata": {},
   "outputs": [],
   "source": [
    "#cargo las librerias que necesito\n",
    "require(\"data.table\")\n",
    "require(\"rpart\")\n",
    "require(\"rpart.plot\")"
   ]
  },
  {
   "cell_type": "code",
   "execution_count": 3,
   "metadata": {},
   "outputs": [],
   "source": [
    "# Aquí se debe poner la carpeta de SU computadora local\n",
    "\n",
    "# setwd(\"D:\\\\gdrive\\\\ITBA2022A\\\\\")  #Establezco el Working Directory\n",
    "\n",
    "# C:\\Users\\tomya\\Desktop\\Mineria de Datos\n",
    "setwd(\"C:\\\\Users\\\\tomya\\\\Desktop\\\\Mineria de Datos\")"
   ]
  },
  {
   "cell_type": "markdown",
   "metadata": {},
   "source": [
    "### 2do Paso\n",
    "\n",
    "Cargo los datos de 202009 que es donde voy a ENTRENAR el modelo"
   ]
  },
  {
   "cell_type": "code",
   "execution_count": 4,
   "metadata": {},
   "outputs": [],
   "source": [
    "dtrain  <- fread(\"./datasets/paquete_premium_202011.csv\")"
   ]
  },
  {
   "cell_type": "markdown",
   "metadata": {},
   "source": []
  },
  {
   "cell_type": "markdown",
   "metadata": {},
   "source": [
    "### 3er paso\n",
    "\n",
    "Genero el modelo,  aquí se construye el árbol.\n",
    "\n",
    "Defino los hiperparámetros (más que definir los instancio)."
   ]
  },
  {
   "cell_type": "raw",
   "metadata": {},
   "source": [
    "# malísimo\n",
    "\n",
    "modelo  <- rpart(\"clase_ternaria ~ .\",\n",
    "                 data = dtrain,\n",
    "                 xval=0,\n",
    "                 cp=        -0.8,  #esto significa no limitar la complejidad de los splits\n",
    "                 minsplit=  1000,   #minima cantidad de registros para que se haga el split\n",
    "                 minbucket=   300,   #tamaño minimo de una hoja\n",
    "                 maxdepth=   7 )  #PRUEBO  una profundidad de 10"
   ]
  },
  {
   "cell_type": "raw",
   "metadata": {},
   "source": [
    "# no es un buen modelo\n",
    "\n",
    "modelo  <- rpart(\"clase_ternaria ~ .\",\n",
    "                 data = dtrain,\n",
    "                 xval=0,\n",
    "                 cp=        -0.953,  #esto significa no limitar la complejidad de los splits\n",
    "                 minsplit=  1133,   #minima cantidad de registros para que se haga el split\n",
    "                 minbucket=   323,   #tamaño minimo de una hoja\n",
    "                 maxdepth=   6 )  #PRUEBO  una profundidad de 10"
   ]
  },
  {
   "cell_type": "raw",
   "metadata": {},
   "source": [
    "# hasta ahora fue el mejor, el 18-5-2022\n",
    "\n",
    "modelo  <- rpart(\"clase_ternaria ~ .\",\n",
    "                 data = dtrain,\n",
    "                 xval=0,\n",
    "                 cp=        -1,  #esto significa no limitar la complejidad de los splits\n",
    "                 minsplit=  1100,   #minima cantidad de registros para que se haga el split\n",
    "                 minbucket=   323,   #tamaño minimo de una hoja\n",
    "                 maxdepth=   7 )  #PRUEBO  una profundidad de 10"
   ]
  },
  {
   "cell_type": "code",
   "execution_count": 43,
   "metadata": {},
   "outputs": [],
   "source": [
    "# excelente, me dio el mejor resultado\n",
    "\n",
    "modelo  <- rpart(\"clase_ternaria ~ .\",\n",
    "                 data = dtrain,\n",
    "                 xval=0,\n",
    "                 cp=        -0.09,  #esto significa no limitar la complejidad de los splits\n",
    "                 minsplit=  2000,   #minima cantidad de registros para que se haga el split\n",
    "                 minbucket=   333,   #tamaño minimo de una hoja\n",
    "                 maxdepth=   6 )  #PRUEBO  una profundidad de 10"
   ]
  },
  {
   "cell_type": "code",
   "execution_count": 134,
   "metadata": {},
   "outputs": [],
   "source": [
    "# muy bueno, un poco menos que con 6 en depth\n",
    "\n",
    "modelo  <- rpart(\"clase_ternaria ~ .\",\n",
    "                 data = dtrain,\n",
    "                 xval=0,\n",
    "                 cp=        -0.0333,  #esto significa no limitar la complejidad de los splits\n",
    "                 minsplit=  1950,   #minima cantidad de registros para que se haga el split\n",
    "                 minbucket=   333,   #tamaño minimo de una hoja\n",
    "                 maxdepth=   6.05 )  #PRUEBO  una profundidad de 10"
   ]
  },
  {
   "cell_type": "code",
   "execution_count": 147,
   "metadata": {},
   "outputs": [],
   "source": [
    "# mjuy malo\n",
    "\n",
    "modelo  <- rpart(\"clase_ternaria ~ .\",\n",
    "                 data = dtrain,\n",
    "                 xval=0,\n",
    "                 cp=        -1,  #esto significa no limitar la complejidad de los splits\n",
    "                 minsplit=  1850,   #minima cantidad de registros para que se haga el split\n",
    "                 minbucket=   333,   #tamaño minimo de una hoja\n",
    "                 maxdepth=   6 )  #PRUEBO  una profundidad de 10"
   ]
  },
  {
   "cell_type": "markdown",
   "metadata": {},
   "source": [
    "### 4to paso\n",
    "\n",
    "Ahora grafico el árbol, va a ser muy frondoso porque la profundidad es de 10"
   ]
  },
  {
   "cell_type": "code",
   "execution_count": 146,
   "metadata": {},
   "outputs": [
    {
     "name": "stderr",
     "output_type": "stream",
     "text": [
      "Warning message:\n",
      "\"labs do not fit even at cex 0.15, there may be some overplotting\""
     ]
    },
    {
     "data": {
      "image/png": "[encoded data removed]",
      "text/plain": [
       "plot without title"
      ]
     },
     "metadata": {},
     "output_type": "display_data"
    }
   ],
   "source": [
    "prp(modelo, extra=101, digits=5, branch=1, type=4, varlen=0, faclen=0)"
   ]
  },
  {
   "cell_type": "markdown",
   "metadata": {},
   "source": [
    "# Ahora aplico al modelo  a los datos de 202101  y genero la salida para kaggle"
   ]
  },
  {
   "cell_type": "markdown",
   "metadata": {},
   "source": [
    "### 5to paso\n",
    "\n",
    "Cargo los datos de 202011, que es donde voy a APLICAR el modelo"
   ]
  },
  {
   "cell_type": "code",
   "execution_count": 148,
   "metadata": {},
   "outputs": [],
   "source": [
    "dapply  <- fread(\"./datasets/paquete_premium_202101.csv\")"
   ]
  },
  {
   "cell_type": "markdown",
   "metadata": {},
   "source": [
    "### 6to paso\n",
    "\n",
    "Aplico el modelo a los datos nuevos. \n",
    "\n",
    "Predicción es una matriz con TRES columnas, llamadas:\n",
    "\n",
    "+ \"BAJA+1\" \n",
    "+ \"BAJA+2\"\n",
    "+ \"CONTINUA\"\n",
    "\n",
    "Donde cada columna es el vector de probabilidades."
   ]
  },
  {
   "cell_type": "code",
   "execution_count": 149,
   "metadata": {},
   "outputs": [],
   "source": [
    "prediccion  <- predict( modelo, dapply , type = \"prob\") #aplico el modelo"
   ]
  },
  {
   "cell_type": "markdown",
   "metadata": {},
   "source": [
    "### 7mo paso\n",
    "\n",
    "Agrego a dapply una columna nueva que es la probabilidad de BAJA+2"
   ]
  },
  {
   "cell_type": "code",
   "execution_count": 150,
   "metadata": {},
   "outputs": [],
   "source": [
    "dapply[ , prob_baja2 := prediccion[, \"BAJA+2\"] ]"
   ]
  },
  {
   "cell_type": "markdown",
   "metadata": {},
   "source": [
    "Sólo le envío estímulo a los registros con probabilidad de BAJA+2 mayor a 1/60. A continuación planteo esta situación algebraicamente."
   ]
  },
  {
   "cell_type": "code",
   "execution_count": 151,
   "metadata": {},
   "outputs": [],
   "source": [
    "dapply[ , Predicted  := as.numeric(prob_baja2 > 1/60) ]"
   ]
  },
  {
   "cell_type": "markdown",
   "metadata": {},
   "source": [
    "### 8vo Paso \n",
    "\n",
    "Genero un dataset con las dos columnas que me interesan"
   ]
  },
  {
   "cell_type": "code",
   "execution_count": 152,
   "metadata": {},
   "outputs": [],
   "source": [
    "entrega  <- dapply[   , list(numero_de_cliente, Predicted) ] #genero la salida"
   ]
  },
  {
   "cell_type": "markdown",
   "metadata": {},
   "source": [
    "### 9no Paso \n",
    "\n",
    "Finalmente genero el archivo para Kaggle\n",
    "\n",
    "+ Creo el directorio dentro de labo para alojar los resultados de mi predicción, si el directorio ya esxiste devuelve error."
   ]
  },
  {
   "cell_type": "raw",
   "metadata": {},
   "source": [
    "dir.create( \"./labo/exp/\" ) \n",
    "dir.create( \"./labo/exp/KA2002\" ) "
   ]
  },
  {
   "cell_type": "markdown",
   "metadata": {},
   "source": [
    "### 10mo Paso\n",
    "\n",
    "Grabo el dataset en un archivo .csv para msubir a kaggle."
   ]
  },
  {
   "cell_type": "code",
   "execution_count": 153,
   "metadata": {},
   "outputs": [],
   "source": [
    "fwrite( entrega, \n",
    "        file= \"./labo/exp/KA2002/K102_001.csv\", \n",
    "        sep= \",\" )"
   ]
  }
 ],
 "metadata": {
  "kernelspec": {
   "display_name": "R",
   "language": "R",
   "name": "ir"
  },
  "language_info": {
   "codemirror_mode": "r",
   "file_extension": ".r",
   "mimetype": "text/x-r-source",
   "name": "R",
   "pygments_lexer": "r",
   "version": "3.6.1"
  }
 },
 "nbformat": 4,
 "nbformat_minor": 4
}
