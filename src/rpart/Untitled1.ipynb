{
 "cells": [
  {
   "cell_type": "code",
   "execution_count": 5,
   "id": "c4042aaf",
   "metadata": {},
   "outputs": [
    {
     "name": "stderr",
     "output_type": "stream",
     "text": [
      "Installing package into 'C:/Users/Tomás García/Documents/R/win-library/3.6'\n",
      "(as 'lib' is unspecified)\n"
     ]
    },
    {
     "name": "stdout",
     "output_type": "stream",
     "text": [
      "\n",
      "  There is a binary version available but the source version is later:\n",
      "           binary source needs_compilation\n",
      "data.table 1.14.0 1.14.2              TRUE\n",
      "\n",
      "  Binaries will be installed\n"
     ]
    },
    {
     "name": "stderr",
     "output_type": "stream",
     "text": [
      "Warning message:\n",
      "\"package 'data.table' is in use and will not be installed\"Installing package into 'C:/Users/Tomás García/Documents/R/win-library/3.6'\n",
      "(as 'lib' is unspecified)\n"
     ]
    },
    {
     "name": "stdout",
     "output_type": "stream",
     "text": [
      "\n",
      "  There is a binary version available but the source version is later:\n",
      "       binary  source needs_compilation\n",
      "rlist 0.4.6.1 0.4.6.2             FALSE\n",
      "\n"
     ]
    },
    {
     "name": "stderr",
     "output_type": "stream",
     "text": [
      "installing the source package 'rlist'\n",
      "\n",
      "Warning message in install.packages(\"rlist\"):\n",
      "\"installation of package 'rlist' had non-zero exit status\"Installing package into 'C:/Users/Tomás García/Documents/R/win-library/3.6'\n",
      "(as 'lib' is unspecified)\n"
     ]
    },
    {
     "name": "stdout",
     "output_type": "stream",
     "text": [
      "\n",
      "  There is a binary version available but the source version is later:\n",
      "      binary source needs_compilation\n",
      "rpart 4.1-15 4.1.16              TRUE\n",
      "\n",
      "  Binaries will be installed\n"
     ]
    },
    {
     "name": "stderr",
     "output_type": "stream",
     "text": [
      "Warning message:\n",
      "\"package 'rpart' is in use and will not be installed\"Installing package into 'C:/Users/Tomás García/Documents/R/win-library/3.6'\n",
      "(as 'lib' is unspecified)\n",
      "Warning message:\n",
      "\"package 'parallel' is not available (for R version 3.6.1)\"Warning message:\n",
      "\"package 'parallel' is a base package, and should not be updated\"Installing package into 'C:/Users/Tomás García/Documents/R/win-library/3.6'\n",
      "(as 'lib' is unspecified)\n",
      "Warning message:\n",
      "\"package 'DiceKriging' is in use and will not be installed\"Installing package into 'C:/Users/Tomás García/Documents/R/win-library/3.6'\n",
      "(as 'lib' is unspecified)\n",
      "also installing the dependency 'parallelMap'\n",
      "\n"
     ]
    },
    {
     "name": "stdout",
     "output_type": "stream",
     "text": [
      "\n",
      "  There is a binary version available but the source version is later:\n",
      "            binary source needs_compilation\n",
      "parallelMap  1.5.0  1.5.1             FALSE\n",
      "\n",
      "package 'mlrMBO' successfully unpacked and MD5 sums checked\n",
      "\n",
      "The downloaded binary packages are in\n",
      "\tC:\\Users\\Tomás García\\AppData\\Local\\Temp\\Rtmp0s2L4P\\downloaded_packages\n"
     ]
    },
    {
     "name": "stderr",
     "output_type": "stream",
     "text": [
      "installing the source package 'parallelMap'\n",
      "\n",
      "Warning message in install.packages(\"mlrMBO\"):\n",
      "\"installation of package 'parallelMap' had non-zero exit status\""
     ]
    }
   ],
   "source": [
    "install.packages(\"data.table\")\n",
    "install.packages(\"rlist\")\n",
    "install.packages(\"rpart\")\n",
    "install.packages(\"parallel\")\n",
    "install.packages(\"DiceKriging\")\n",
    "install.packages(\"mlrMBO\")"
   ]
  },
  {
   "cell_type": "code",
   "execution_count": 11,
   "id": "bfa7b653",
   "metadata": {},
   "outputs": [
    {
     "data": {
      "text/html": [
       "<table>\n",
       "<thead><tr><th></th><th scope=col>used</th><th scope=col>(Mb)</th><th scope=col>gc trigger</th><th scope=col>(Mb)</th><th scope=col>max used</th><th scope=col>(Mb)</th></tr></thead>\n",
       "<tbody>\n",
       "\t<tr><th scope=row>Ncells</th><td> 648273 </td><td>34.7    </td><td> 1414170</td><td> 75.6   </td><td> 1414170</td><td> 75.6   </td></tr>\n",
       "\t<tr><th scope=row>Vcells</th><td>1265525 </td><td> 9.7    </td><td>24837126</td><td>189.5   </td><td>35698022</td><td>272.4   </td></tr>\n",
       "</tbody>\n",
       "</table>\n"
      ],
      "text/latex": [
       "\\begin{tabular}{r|llllll}\n",
       "  & used & (Mb) & gc trigger & (Mb) & max used & (Mb)\\\\\n",
       "\\hline\n",
       "\tNcells &  648273  & 34.7     &  1414170 &  75.6    &  1414170 &  75.6   \\\\\n",
       "\tVcells & 1265525  &  9.7     & 24837126 & 189.5    & 35698022 & 272.4   \\\\\n",
       "\\end{tabular}\n"
      ],
      "text/markdown": [
       "\n",
       "| <!--/--> | used | (Mb) | gc trigger | (Mb) | max used | (Mb) |\n",
       "|---|---|---|---|---|---|---|\n",
       "| Ncells |  648273  | 34.7     |  1414170 |  75.6    |  1414170 |  75.6    |\n",
       "| Vcells | 1265525  |  9.7     | 24837126 | 189.5    | 35698022 | 272.4    |\n",
       "\n"
      ],
      "text/plain": [
       "       used    (Mb) gc trigger (Mb)  max used (Mb) \n",
       "Ncells  648273 34.7  1414170    75.6  1414170  75.6\n",
       "Vcells 1265525  9.7 24837126   189.5 35698022 272.4"
      ]
     },
     "metadata": {},
     "output_type": "display_data"
    },
    {
     "name": "stderr",
     "output_type": "stream",
     "text": [
      "Loading required package: rlist\n",
      "Warning message in library(package, lib.loc = lib.loc, character.only = TRUE, logical.return = TRUE, :\n",
      "\"there is no package called 'rlist'\"Loading required package: mlrMBO\n",
      "Warning message:\n",
      "\"package 'mlrMBO' was built under R version 3.6.3\"Loading required package: mlr\n",
      "Warning message:\n",
      "\"package 'mlr' was built under R version 3.6.3\"Error: package or namespace load failed for 'mlr' in loadNamespace(i, c(lib.loc, .libPaths()), versionCheck = vI[[i]]):\n",
      " there is no package called 'ggplot2'\n"
     ]
    },
    {
     "ename": "ERROR",
     "evalue": "Error in configureMlr(show.learner.output = FALSE): no se pudo encontrar la función \"configureMlr\"\n",
     "output_type": "error",
     "traceback": [
      "Error in configureMlr(show.learner.output = FALSE): no se pudo encontrar la función \"configureMlr\"\nTraceback:\n"
     ]
    }
   ],
   "source": [
    "#Optimizacion Bayesiana de hiperparametros de  rpart\n",
    "\n",
    "#limpio la memoria\n",
    "rm( list=ls() )  #remove all objects\n",
    "gc()             #garbage collection\n",
    "\n",
    "require(\"data.table\")\n",
    "require(\"rlist\")\n",
    "\n",
    "require(\"rpart\")\n",
    "require(\"parallel\")\n",
    "\n",
    "#paquetes necesarios para la Bayesian Optimization\n",
    "require(\"DiceKriging\")\n",
    "require(\"mlrMBO\")\n",
    "\n",
    "\n",
    "#Defino la  Optimizacion Bayesiana\n",
    "\n",
    "kBO_iter  <- 100   #cantidad de iteraciones de la Optimizacion Bayesiana\n",
    "\n",
    "# Aquí se define como va a ser la optimización bayesiana, le digo como va a aiterar por los parámetros\n",
    "# forbidden es la condición que le pongo, de que un hijo no puede ser más que la mitad del padre\n",
    "hs  <- makeParamSet(\n",
    "          makeNumericParam(\"cp\"       , lower= -1   , upper=    0.1),\n",
    "          makeIntegerParam(\"minsplit\" , lower=  1L  , upper= 8000L),  #la letra L al final significa ENTERO\n",
    "          makeIntegerParam(\"minbucket\", lower=  1L  , upper= 2000L),\n",
    "          makeIntegerParam(\"maxdepth\" , lower=  3L  , upper=   20L),\n",
    "          forbidden = quote( minbucket > 0.5*minsplit ) )             # minbuket NO PUEDE ser mayor que la mitad de minsplit\n",
    "\n",
    "# Mientras más parámetros tenga acá, más iteraciones tengo que mostrarle\n",
    "\n",
    "ksemilla_azar  <- 102191   #cambiar por la primer semilla\n",
    "\n",
    "#------------------------------------------------------------------------------\n",
    "#graba a un archivo los componentes de lista\n",
    "#para el primer registro, escribe antes los titulos\n",
    "\n",
    "loguear  <- function( reg, arch=NA, folder=\"./work/\", ext=\".txt\", verbose=TRUE )\n",
    "{\n",
    "  archivo  <- arch\n",
    "  if( is.na(arch) )  archivo  <- paste0( folder, substitute( reg), ext )\n",
    "\n",
    "  if( !file.exists( archivo ) )  #Escribo los titulos\n",
    "  {\n",
    "    linea  <- paste0( \"fecha\\t\", \n",
    "                      paste( list.names(reg), collapse=\"\\t\" ), \"\\n\" )\n",
    "\n",
    "    cat( linea, file=archivo )\n",
    "  }\n",
    "\n",
    "  linea  <- paste0( format(Sys.time(), \"%Y%m%d %H%M%S\"),  \"\\t\",     #la fecha y hora\n",
    "                    gsub( \", \", \"\\t\", toString( reg ) ),  \"\\n\" )\n",
    "\n",
    "  cat( linea, file=archivo, append=TRUE )  #grabo al archivo\n",
    "\n",
    "  if( verbose )  cat( linea )   #imprimo por pantalla\n",
    "}\n",
    "#------------------------------------------------------------------------------\n",
    "#particionar agrega una columna llamada fold a un dataset que consiste en una particion estratificada segun agrupa\n",
    "# particionar( data=dataset, division=c(70,30), agrupa=clase_ternaria, seed=semilla)   crea una particion 70, 30 \n",
    "# particionar( data=dataset, division=c(1,1,1,1,1), agrupa=clase_ternaria, seed=semilla)   divide el dataset en 5 particiones\n",
    "\n",
    "particionar  <- function( data, division, agrupa=\"\", campo=\"fold\", start=1, seed=NA )\n",
    "{\n",
    "  if( !is.na( seed)  )   set.seed( seed )\n",
    "\n",
    "  bloque  <- unlist( mapply(  function(x,y) { rep( y, x ) }, division, seq( from=start, length.out=length(division) )  ) )\n",
    "\n",
    "  data[ , (campo) :=  sample( rep( bloque, ceiling(.N/length(bloque))) )[1:.N],\n",
    "           by= agrupa ]\n",
    "}\n",
    "#------------------------------------------------------------------------------\n",
    "#fold_test  tiene el numero de fold que voy a usar para testear, entreno en el resto de los folds\n",
    "#param tiene los hiperparametros del arbol\n",
    "\n",
    "ArbolSimple  <- function( fold_test, data, param )\n",
    "{\n",
    "  #genero el modelo\n",
    "  modelo  <- rpart(\"clase_ternaria ~ .\", \n",
    "                   data= data[ fold != fold_test, ],  #entreno en todo MENOS el fold_test que uso para testing\n",
    "                   xval= 0,\n",
    "                   control= param )\n",
    "\n",
    "  #aplico el modelo a los datos de testing\n",
    "  prediccion  <- predict( modelo, \n",
    "                          data[ fold==fold_test, ],  #aplico el modelo sobre los datos de testing\n",
    "                          type= \"prob\")   #quiero que me devuelva probabilidades\n",
    "\n",
    "  prob_baja2  <- prediccion[, \"BAJA+2\"]  #esta es la probabilidad de baja\n",
    "\n",
    "  #calculo la ganancia\n",
    "  ganancia_testing  <- data[ fold==fold_test ][ prob_baja2 > 1/60,  \n",
    "                                                sum( ifelse( clase_ternaria==\"BAJA+2\", 59000, -1000 ) )] \n",
    "\n",
    "  return( ganancia_testing )  #esta es la ganancia sobre el fold de testing, NO esta normalizada\n",
    "}\n",
    "#------------------------------------------------------------------------------\n",
    "\n",
    "ArbolesCrossValidation  <- function( data, param, qfolds, pagrupa, semilla )\n",
    "{\n",
    "  divi  <- rep( 1, qfolds )  # generalmente  c(1, 1, 1, 1, 1 )  cinco unos\n",
    "\n",
    "  particionar( data, divi, seed=semilla, agrupa=pagrupa )  #particiono en dataset en folds\n",
    "\n",
    "  ganancias  <- mcmapply( ArbolSimple, \n",
    "                          seq(qfolds), # 1 2 3 4 5\n",
    "                          MoreArgs= list( data, param), \n",
    "                          SIMPLIFY= FALSE,\n",
    "                          mc.cores= 1 )   #se puede subir a qfolds si posee Linux o Mac OS\n",
    "\n",
    "  data[ , fold := NULL ]\n",
    "\n",
    "  #devuelvo la primer ganancia y el promedio\n",
    "  ganancia_promedio  <- mean( unlist( ganancias ) )   #promedio las ganancias\n",
    "  ganancia_promedio_normalizada  <- ganancia_promedio * qfolds  #aqui normalizo la ganancia\n",
    "  \n",
    "  return( ganancia_promedio_normalizada )\n",
    "}\n",
    "#------------------------------------------------------------------------------\n",
    "#esta funcion solo puede recibir los parametros que se estan optimizando\n",
    "#el resto de los parametros, lamentablemente se pasan como variables globales\n",
    "\n",
    "EstimarGanancia  <- function( x )\n",
    "{\n",
    "   GLOBAL_iteracion  <<-  GLOBAL_iteracion + 1\n",
    "\n",
    "   xval_folds  <- 5\n",
    "   ganancia  <- ArbolesCrossValidation( dataset,\n",
    "                                        param= x, #los hiperparametros del arbol\n",
    "                                        qfolds= xval_folds,  #la cantidad de folds\n",
    "                                        pagrupa= \"clase_ternaria\",\n",
    "                                        semilla= ksemilla_azar )\n",
    "\n",
    "   #logueo \n",
    "   xx  <- x\n",
    "   xx$xval_folds  <-  xval_folds\n",
    "   xx$ganancia  <- ganancia\n",
    "   xx$iteracion <- GLOBAL_iteracion\n",
    "   loguear( xx,  arch= archivo_log )\n",
    "\n",
    "   return( ganancia )\n",
    "}\n",
    "#------------------------------------------------------------------------------\n",
    "#Aqui empieza el programa\n",
    "\n",
    "setwd(\"C:\\\\Users\\\\Tomás García\\\\Documents\\\\MD\")\n",
    "\n",
    "#cargo el dataset\n",
    "dataset  <- fread(\"./datasets/paquete_premium_202011.csv\")   #donde entreno\n",
    "\n",
    "\n",
    "#creo la carpeta donde va el experimento\n",
    "# HT  representa  Hiperparameter Tuning\n",
    "dir.create( \"./labo/exp/\",  showWarnings = FALSE ) \n",
    "dir.create( \"./labo/exp/HT3210/\", showWarnings = FALSE )\n",
    "setwd(\"C:\\\\Users\\\\Tomás García\\\\Documents\\\\MD\\\\labo\\\\exp\\\\HT3210\\\\\")   #Establezco el Working Directory DEL EXPERIMENTO\n",
    "\n",
    "\n",
    "archivo_log  <- \"HT321.txt\"\n",
    "archivo_BO   <- \"HT321.RDATA\"\n",
    "\n",
    "#leo si ya existe el log, para retomar en caso que se se corte el programa\n",
    "GLOBAL_iteracion  <- 0\n",
    "\n",
    "if( file.exists(archivo_log) )\n",
    "{\n",
    " tabla_log  <- fread( archivo_log )\n",
    " GLOBAL_iteracion  <- nrow( tabla_log )\n",
    "}\n",
    "\n",
    "\n",
    "\n",
    "#Aqui comienza la configuracion de la Bayesian Optimization\n",
    "\n",
    "funcion_optimizar  <- EstimarGanancia\n",
    "\n",
    "configureMlr( show.learner.output= FALSE)\n",
    "\n",
    "# esta\n",
    "\n",
    "#configuro la busqueda bayesiana,  los hiperparametros que se van a optimizar\n",
    "#por favor, no desesperarse por lo complejo\n",
    "obj.fun  <- makeSingleObjectiveFunction(\n",
    "              fn=       funcion_optimizar,\n",
    "              minimize= FALSE,   #estoy Maximizando la ganancia\n",
    "              noisy=    TRUE,\n",
    "              par.set=  hs,\n",
    "              has.simple.signature = FALSE\n",
    "             )\n",
    "\n",
    "ctrl  <- makeMBOControl( save.on.disk.at.time= 600,  save.file.path= archivo_BO)\n",
    "ctrl  <- setMBOControlTermination(ctrl, iters= kBO_iter )\n",
    "ctrl  <- setMBOControlInfill(ctrl, crit= makeMBOInfillCritEI())\n",
    "\n",
    "surr.km  <- makeLearner(\"regr.km\", predict.type= \"se\", covtype= \"matern3_2\", control= list(trace= TRUE))\n",
    "\n",
    "# esta última parte se fija si existe el archivo mbo, y retoma desde donde dejó la última corrida\n",
    "#inicio la optimizacion bayesiana\n",
    "if( !file.exists( archivo_BO ) ) {\n",
    "  run  <- mbo(obj.fun, learner = surr.km, control = ctrl)\n",
    "} else  run  <- mboContinue( archivo_BO )   #retomo en caso que ya exista"
   ]
  },
  {
   "cell_type": "code",
   "execution_count": null,
   "id": "495a8b98",
   "metadata": {},
   "outputs": [],
   "source": []
  },
  {
   "cell_type": "code",
   "execution_count": null,
   "id": "7729b33f",
   "metadata": {},
   "outputs": [],
   "source": []
  },
  {
   "cell_type": "code",
   "execution_count": 7,
   "id": "27f935a1",
   "metadata": {},
   "outputs": [
    {
     "name": "stderr",
     "output_type": "stream",
     "text": [
      "Installing package into 'C:/Users/Tomás García/Documents/R/win-library/3.6'\n",
      "(as 'lib' is unspecified)\n",
      "also installing the dependencies 'lifecycle', 'R6', 'RColorBrewer', 'rlang', 'scales', 'withr', 'ggplot2', 'parallelMap'\n",
      "\n"
     ]
    },
    {
     "name": "stdout",
     "output_type": "stream",
     "text": [
      "\n",
      "  There are binary versions available but the source versions are later:\n",
      "             binary source needs_compilation\n",
      "lifecycle     1.0.0  1.0.1             FALSE\n",
      "R6            2.5.0  2.5.1             FALSE\n",
      "RColorBrewer  1.1-2  1.1-3             FALSE\n",
      "rlang        0.4.11  1.0.2              TRUE\n",
      "scales        1.1.1  1.2.0             FALSE\n",
      "withr         2.4.2  2.5.0             FALSE\n",
      "ggplot2       3.3.3  3.3.6             FALSE\n",
      "parallelMap   1.5.0  1.5.1             FALSE\n",
      "\n",
      "  Binaries will be installed\n",
      "package 'rlang' successfully unpacked and MD5 sums checked\n",
      "package 'mlr' successfully unpacked and MD5 sums checked\n",
      "\n",
      "The downloaded binary packages are in\n",
      "\tC:\\Users\\Tomás García\\AppData\\Local\\Temp\\Rtmp0s2L4P\\downloaded_packages\n"
     ]
    },
    {
     "name": "stderr",
     "output_type": "stream",
     "text": [
      "installing the source packages 'lifecycle', 'R6', 'RColorBrewer', 'scales', 'withr', 'ggplot2', 'parallelMap'\n",
      "\n",
      "Warning message in install.packages(\"mlr\"):\n",
      "\"installation of package 'lifecycle' had non-zero exit status\"Warning message in install.packages(\"mlr\"):\n",
      "\"installation of package 'R6' had non-zero exit status\"Warning message in install.packages(\"mlr\"):\n",
      "\"installation of package 'RColorBrewer' had non-zero exit status\"Warning message in install.packages(\"mlr\"):\n",
      "\"installation of package 'withr' had non-zero exit status\"Warning message in install.packages(\"mlr\"):\n",
      "\"installation of package 'parallelMap' had non-zero exit status\"Warning message in install.packages(\"mlr\"):\n",
      "\"installation of package 'scales' had non-zero exit status\"Warning message in install.packages(\"mlr\"):\n",
      "\"installation of package 'ggplot2' had non-zero exit status\""
     ]
    }
   ],
   "source": [
    "install.packages(\"mlr\")"
   ]
  },
  {
   "cell_type": "code",
   "execution_count": null,
   "id": "7e4c2abf",
   "metadata": {},
   "outputs": [],
   "source": [
    "install.packages(\"mlrMBO\")"
   ]
  }
 ],
 "metadata": {
  "kernelspec": {
   "display_name": "R",
   "language": "R",
   "name": "ir"
  },
  "language_info": {
   "codemirror_mode": "r",
   "file_extension": ".r",
   "mimetype": "text/x-r-source",
   "name": "R",
   "pygments_lexer": "r",
   "version": "3.6.1"
  }
 },
 "nbformat": 4,
 "nbformat_minor": 5
}
