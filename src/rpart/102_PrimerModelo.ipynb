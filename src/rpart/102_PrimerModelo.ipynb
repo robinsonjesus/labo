{
 "cells": [
  {
   "cell_type": "markdown",
   "metadata": {},
   "source": [
    "Arbol elemental con libreria  rpart"
   ]
  },
  {
   "cell_type": "markdown",
   "metadata": {},
   "source": [
    "#Debe tener instaladas las librerias  data.table  ,  rpart   y rpart.plot"
   ]
  },
  {
   "cell_type": "code",
   "execution_count": 1,
   "metadata": {},
   "outputs": [
    {
     "name": "stderr",
     "output_type": "stream",
     "text": [
      "Loading required package: data.table\n",
      "Warning message:\n",
      "\"package 'data.table' was built under R version 3.6.3\"Loading required package: rpart\n",
      "Warning message:\n",
      "\"package 'rpart' was built under R version 3.6.3\"Loading required package: rpart.plot\n",
      "Warning message in library(package, lib.loc = lib.loc, character.only = TRUE, logical.return = TRUE, :\n",
      "\"there is no package called 'rpart.plot'\""
     ]
    }
   ],
   "source": [
    "#cargo las librerias que necesito\n",
    "require(\"data.table\")\n",
    "require(\"rpart\")\n",
    "require(\"rpart.plot\")"
   ]
  },
  {
   "cell_type": "code",
   "execution_count": 2,
   "metadata": {},
   "outputs": [],
   "source": [
    "#Aqui se debe poner la carpeta de SU computadora local\n",
    "setwd(\"C:\\\\Users\\\\Tomás García\\\\Documents\\\\MD\")  #Establezco el Working Directory"
   ]
  },
  {
   "cell_type": "markdown",
   "metadata": {},
   "source": [
    "cargo los datos de 202009 que es donde voy a ENTRENAR el modelo"
   ]
  },
  {
   "cell_type": "code",
   "execution_count": 3,
   "metadata": {},
   "outputs": [],
   "source": [
    "\n",
    "dtrain  <- fread(\"./datasets/paquete_premium_202011.csv\")"
   ]
  },
  {
   "cell_type": "markdown",
   "metadata": {},
   "source": [
    "+ Max depth es la máxima profundidad que dmite la librería\n",
    "+ min split es mejor tener 2, porque es el mínimo que puede dividir, si le pongo 3 lo limito\n",
    "+ mínima cantidad de resgitros del hijo en el árbol para que yo considere al hijo"
   ]
  },
  {
   "cell_type": "markdown",
   "metadata": {},
   "source": [
    "genero el modelo,  aqui se construye el arbol"
   ]
  },
  {
   "cell_type": "code",
   "execution_count": 44,
   "metadata": {},
   "outputs": [],
   "source": [
    "modelo  <- rpart(\"clase_ternaria ~ .\",\n",
    "                 data = dtrain,\n",
    "                 xval=0,\n",
    "                 cp=        -0.3,  #esto significa no limitar la complejidad de los splits\n",
    "                 minsplit = 200,   #minima cantidad de registros para que se haga el split\n",
    "                 minbucket = 1,   #tamaño minimo de una hoja\n",
    "                 maxdepth = 10 )  #PRUEBO  una profundidad de 10"
   ]
  },
  {
   "cell_type": "markdown",
   "metadata": {},
   "source": [
    "Ahora grafico el arbol, va a ser muy frondoso porque la profundidad es de 10"
   ]
  },
  {
   "cell_type": "code",
   "execution_count": null,
   "metadata": {},
   "outputs": [],
   "source": [
    "prp(modelo, extra=101, digits=5, branch=1, type=4, varlen=0, faclen=0)"
   ]
  },
  {
   "cell_type": "code",
   "execution_count": null,
   "metadata": {},
   "outputs": [],
   "source": [
    "#Ahora aplico al modelo  a los datos de 202101  y genero la salida para kaggle"
   ]
  },
  {
   "cell_type": "markdown",
   "metadata": {},
   "source": [
    "#cargo los datos de 202011, que es donde voy a APLICAR el modelo"
   ]
  },
  {
   "cell_type": "code",
   "execution_count": 37,
   "metadata": {},
   "outputs": [],
   "source": [
    "dapply  <- fread(\"./datasets/paquete_premium_202101.csv\")"
   ]
  },
  {
   "cell_type": "raw",
   "metadata": {},
   "source": [
    "#aplico el modelo a los datos nuevos"
   ]
  },
  {
   "cell_type": "code",
   "execution_count": 38,
   "metadata": {},
   "outputs": [],
   "source": [
    "prediccion  <- predict( modelo, dapply , type = \"prob\") #aplico el modelo"
   ]
  },
  {
   "cell_type": "markdown",
   "metadata": {},
   "source": [
    "prediccion es una matriz con TRES columnas, llamadas \"BAJA+1\", \"BAJA+2\"  y \"CONTINUA\"\n",
    "cada columna es el vector de probabilidades "
   ]
  },
  {
   "cell_type": "markdown",
   "metadata": {},
   "source": [
    "agrego a dapply una columna nueva que es la probabilidad de BAJA+2"
   ]
  },
  {
   "cell_type": "code",
   "execution_count": 39,
   "metadata": {},
   "outputs": [],
   "source": [
    "dapply[ , prob_baja2 := prediccion[, \"BAJA+2\"] ]"
   ]
  },
  {
   "cell_type": "markdown",
   "metadata": {},
   "source": [
    "solo le envio estimulo a los registros con probabilidad de BAJA+2 mayor  a  1/60"
   ]
  },
  {
   "cell_type": "code",
   "execution_count": 40,
   "metadata": {},
   "outputs": [],
   "source": [
    "dapply[ , Predicted  := as.numeric(prob_baja2 > 1/60) ]"
   ]
  },
  {
   "cell_type": "markdown",
   "metadata": {},
   "source": [
    "genero un dataset con las dos columnas que me interesan"
   ]
  },
  {
   "cell_type": "code",
   "execution_count": 41,
   "metadata": {},
   "outputs": [],
   "source": [
    "entrega  <- dapply[   , list(numero_de_cliente, Predicted) ] #genero la salida"
   ]
  },
  {
   "cell_type": "markdown",
   "metadata": {},
   "source": [
    "#Finalmente genero el archivo para Kaggle"
   ]
  },
  {
   "cell_type": "code",
   "execution_count": null,
   "metadata": {},
   "outputs": [],
   "source": [
    "#creo la carpeta donde va el experimento"
   ]
  },
  {
   "cell_type": "code",
   "execution_count": 42,
   "metadata": {},
   "outputs": [
    {
     "name": "stderr",
     "output_type": "stream",
     "text": [
      "Warning message in dir.create(\"./labo/exp/\"):\n",
      "\"'.\\labo\\exp' already exists\"Warning message in dir.create(\"./labo/exp/KA2002\"):\n",
      "\"'.\\labo\\exp\\KA2002' already exists\""
     ]
    }
   ],
   "source": [
    "dir.create( \"./labo/exp/\" ) \n",
    "dir.create( \"./labo/exp/KA2002\" ) "
   ]
  },
  {
   "cell_type": "markdown",
   "metadata": {},
   "source": [
    "grabo el dataset"
   ]
  },
  {
   "cell_type": "code",
   "execution_count": 43,
   "metadata": {},
   "outputs": [],
   "source": [
    "fwrite( entrega, \n",
    "        file= \"./labo/exp/KA2002/K102_001.csv\", \n",
    "        sep= \",\" )"
   ]
  }
 ],
 "metadata": {
  "kernelspec": {
   "display_name": "R",
   "language": "R",
   "name": "ir"
  },
  "language_info": {
   "codemirror_mode": "r",
   "file_extension": ".r",
   "mimetype": "text/x-r-source",
   "name": "R",
   "pygments_lexer": "r",
   "version": "3.6.1"
  }
 },
 "nbformat": 4,
 "nbformat_minor": 4
}
