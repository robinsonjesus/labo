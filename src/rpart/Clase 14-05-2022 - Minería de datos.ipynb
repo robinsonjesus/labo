{
 "cells": [
  {
   "cell_type": "code",
   "execution_count": null,
   "id": "faff4726",
   "metadata": {},
   "outputs": [],
   "source": []
  },
  {
   "cell_type": "code",
   "execution_count": 6,
   "id": "4f62f355",
   "metadata": {},
   "outputs": [
    {
     "name": "stderr",
     "output_type": "stream",
     "text": [
      "Installing package into 'C:/Users/Tomás García/Documents/R/win-library/3.6'\n",
      "(as 'lib' is unspecified)\n",
      "Warning message:\n",
      "\"package 'parallel' is not available (for R version 3.6.1)\"Warning message:\n",
      "\"package 'parallel' is a base package, and should not be updated\""
     ]
    }
   ],
   "source": [
    "install.packages(\"parallel\")"
   ]
  },
  {
   "cell_type": "code",
   "execution_count": 1,
   "id": "cc514e9a",
   "metadata": {},
   "outputs": [
    {
     "data": {
      "text/html": [
       "<table>\n",
       "<thead><tr><th></th><th scope=col>used</th><th scope=col>(Mb)</th><th scope=col>gc trigger</th><th scope=col>(Mb)</th><th scope=col>max used</th><th scope=col>(Mb)</th></tr></thead>\n",
       "<tbody>\n",
       "\t<tr><th scope=row>Ncells</th><td>508675 </td><td>27.2   </td><td>1142394</td><td>61.1   </td><td> 621925</td><td>33.3   </td></tr>\n",
       "\t<tr><th scope=row>Vcells</th><td>943596 </td><td> 7.2   </td><td>8388608</td><td>64.0   </td><td>1601596</td><td>12.3   </td></tr>\n",
       "</tbody>\n",
       "</table>\n"
      ],
      "text/latex": [
       "\\begin{tabular}{r|llllll}\n",
       "  & used & (Mb) & gc trigger & (Mb) & max used & (Mb)\\\\\n",
       "\\hline\n",
       "\tNcells & 508675  & 27.2    & 1142394 & 61.1    &  621925 & 33.3   \\\\\n",
       "\tVcells & 943596  &  7.2    & 8388608 & 64.0    & 1601596 & 12.3   \\\\\n",
       "\\end{tabular}\n"
      ],
      "text/markdown": [
       "\n",
       "| <!--/--> | used | (Mb) | gc trigger | (Mb) | max used | (Mb) |\n",
       "|---|---|---|---|---|---|---|\n",
       "| Ncells | 508675  | 27.2    | 1142394 | 61.1    |  621925 | 33.3    |\n",
       "| Vcells | 943596  |  7.2    | 8388608 | 64.0    | 1601596 | 12.3    |\n",
       "\n"
      ],
      "text/plain": [
       "       used   (Mb) gc trigger (Mb) max used (Mb)\n",
       "Ncells 508675 27.2 1142394    61.1  621925  33.3\n",
       "Vcells 943596  7.2 8388608    64.0 1601596  12.3"
      ]
     },
     "metadata": {},
     "output_type": "display_data"
    },
    {
     "name": "stderr",
     "output_type": "stream",
     "text": [
      "Loading required package: data.table\n",
      "Warning message:\n",
      "\"package 'data.table' was built under R version 3.6.3\"Loading required package: rpart\n",
      "Warning message:\n",
      "\"package 'rpart' was built under R version 3.6.3\"Loading required package: parallel\n"
     ]
    },
    {
     "data": {
      "text/html": [
       "8516666.66666667"
      ],
      "text/latex": [
       "8516666.66666667"
      ],
      "text/markdown": [
       "8516666.66666667"
      ],
      "text/plain": [
       "[1] 8516667"
      ]
     },
     "metadata": {},
     "output_type": "display_data"
    },
    {
     "data": {
      "text/html": [
       "<ol>\n",
       "\t<li>10860000</li>\n",
       "\t<li>10886666.6666667</li>\n",
       "\t<li>11543333.3333333</li>\n",
       "\t<li>10250000</li>\n",
       "\t<li>10023333.3333333</li>\n",
       "</ol>\n"
      ],
      "text/latex": [
       "\\begin{enumerate}\n",
       "\\item 10860000\n",
       "\\item 10886666.6666667\n",
       "\\item 11543333.3333333\n",
       "\\item 10250000\n",
       "\\item 10023333.3333333\n",
       "\\end{enumerate}\n"
      ],
      "text/markdown": [
       "1. 10860000\n",
       "2. 10886666.6666667\n",
       "3. 11543333.3333333\n",
       "4. 10250000\n",
       "5. 10023333.3333333\n",
       "\n",
       "\n"
      ],
      "text/plain": [
       "[[1]]\n",
       "[1] 10860000\n",
       "\n",
       "[[2]]\n",
       "[1] 10886667\n",
       "\n",
       "[[3]]\n",
       "[1] 11543333\n",
       "\n",
       "[[4]]\n",
       "[1] 10250000\n",
       "\n",
       "[[5]]\n",
       "[1] 10023333\n"
      ]
     },
     "metadata": {},
     "output_type": "display_data"
    },
    {
     "data": {
      "text/html": [
       "<ol class=list-inline>\n",
       "\t<li>10860000</li>\n",
       "\t<li>10886666.6666667</li>\n",
       "\t<li>11543333.3333333</li>\n",
       "\t<li>10250000</li>\n",
       "\t<li>10023333.3333333</li>\n",
       "</ol>\n"
      ],
      "text/latex": [
       "\\begin{enumerate*}\n",
       "\\item 10860000\n",
       "\\item 10886666.6666667\n",
       "\\item 11543333.3333333\n",
       "\\item 10250000\n",
       "\\item 10023333.3333333\n",
       "\\end{enumerate*}\n"
      ],
      "text/markdown": [
       "1. 10860000\n",
       "2. 10886666.6666667\n",
       "3. 11543333.3333333\n",
       "4. 10250000\n",
       "5. 10023333.3333333\n",
       "\n",
       "\n"
      ],
      "text/plain": [
       "[1] 10860000 10886667 11543333 10250000 10023333"
      ]
     },
     "metadata": {},
     "output_type": "display_data"
    },
    {
     "data": {
      "text/html": [
       "10712666.6666667"
      ],
      "text/latex": [
       "10712666.6666667"
      ],
      "text/markdown": [
       "10712666.6666667"
      ],
      "text/plain": [
       "[1] 10712667"
      ]
     },
     "metadata": {},
     "output_type": "display_data"
    }
   ],
   "source": [
    "rm( list=ls() )  #Borro todos los objetos\n",
    "gc()   #Garbage Collection\n",
    "\n",
    "require(\"data.table\")\n",
    "require(\"rpart\")\n",
    "require(\"parallel\")\n",
    "\n",
    "ksemillas  <- c(333333, 343434, 353535, 363636, 373737) #reemplazar por las propias semillas\n",
    "\n",
    "#------------------------------------------------------------------------------\n",
    "#particionar agrega una columna llamada fold a un dataset que consiste en una particion estratificada segun agrupa\n",
    "# particionar( data=dataset, division=c(70,30), agrupa=clase_ternaria, seed=semilla)   crea una particion 70, 30 \n",
    "\n",
    "particionar  <- function( data,  division, agrupa=\"\",  campo=\"fold\", start=1, seed=NA )\n",
    "{\n",
    "  if( !is.na(seed) )   set.seed( seed )\n",
    "\n",
    "  bloque  <- unlist( mapply(  function(x,y) { rep( y, x )} ,   division,  seq( from=start, length.out=length(division) )  ) )  \n",
    "\n",
    "  data[ , (campo) :=  sample( rep( bloque, ceiling(.N/length(bloque))) )[1:.N],\n",
    "          by= agrupa ]\n",
    "}\n",
    "#------------------------------------------------------------------------------\n",
    "\n",
    "ArbolEstimarGanancia  <- function( semilla, param_basicos )\n",
    "{\n",
    "  #particiono estratificadamente el dataset\n",
    "  particionar( dataset, division=c(70,30), agrupa=\"clase_ternaria\", seed= semilla )  #Cambiar por la primer semilla de cada uno !\n",
    "\n",
    "  #genero el modelo\n",
    "  modelo  <- rpart(\"clase_ternaria ~ .\",     #quiero predecir clase_ternaria a partir del resto\n",
    "                   data= dataset[ fold==1],  #fold==1  es training,  el 70% de los datos\n",
    "                   xval= 0,\n",
    "                   control= param_basicos )  #aqui van los parametros del arbol\n",
    "\n",
    "  #aplico el modelo a los datos de testing\n",
    "  prediccion  <- predict( modelo,   #el modelo que genere recien\n",
    "                          dataset[ fold==2],  #fold==2  es testing, el 30% de los datos\n",
    "                          type= \"prob\") #type= \"prob\"  es que devuelva la probabilidad\n",
    "\n",
    "  #prediccion es una matriz con TRES columnas, llamadas \"BAJA+1\", \"BAJA+2\"  y \"CONTINUA\"\n",
    "  #cada columna es el vector de probabilidades \n",
    "\n",
    "\n",
    "  #calculo la ganancia en testing  qu es fold==2\n",
    "  ganancia_test  <- dataset[ fold==2, \n",
    "                             sum( ifelse( prediccion[, \"BAJA+2\"]  >  1/60,\n",
    "                                         ifelse( clase_ternaria==\"BAJA+2\", 59000, -1000 ),\n",
    "                                         0 ) )]\n",
    "\n",
    "  #escalo la ganancia como si fuera todo el dataset\n",
    "  ganancia_test_normalizada  <-  ganancia_test / 0.3\n",
    "\n",
    "  return( ganancia_test_normalizada )\n",
    "}\n",
    "#------------------------------------------------------------------------------\n",
    "\n",
    "#Aqui se debe poner la carpeta de la computadora local\n",
    "setwd(\"C:\\\\Users\\\\Tomás García\\\\Documents\\\\MD\")   #Establezco el Working Directory\n",
    "#cargo los datos\n",
    "\n",
    "dataset  <- fread(\"./datasets/paquete_premium_202011.csv\")\n",
    "\n",
    "param_basicos  <- list( \"cp\"=         -0.5,  #complejidad minima\n",
    "                        \"minsplit\"=  900,  #minima cantidad de registros en un nodo para hacer el split\n",
    "                        \"minbucket\"=  440,  #minima cantidad de registros en una hoja\n",
    "                        \"maxdepth\"=  5 ) #profundidad máxima del arbol\n",
    "\n",
    "#Un solo llamado, con la semilla 17\n",
    "ArbolEstimarGanancia( 17, param_basicos )   \n",
    "\n",
    "\n",
    "#la funcion mcmapply  llama a la funcion ArbolEstimarGanancia  tantas veces como valores tenga el vector  ksemillas\n",
    "ganancias  <- mcmapply( ArbolEstimarGanancia, \n",
    "                        ksemillas,   #paso el vector de semillas, que debe ser el primer parametro de la funcion ArbolEstimarGanancia\n",
    "                        MoreArgs= list( param_basicos),  #aqui paso el segundo parametro\n",
    "                        SIMPLIFY= FALSE,\n",
    "                        mc.cores= 1 )  #se puede subir a 5 si posee Linux o Mac OS\n",
    "\n",
    "#muestro la lista de las ganancias en testing para la particion realizada con cada semilla\n",
    "ganancias\n",
    "\n",
    "#paso la lista a vector\n",
    "unlist(ganancias)\n",
    "\n",
    "#finalmente calculo la media (promedio)  de las ganancias\n",
    "mean( unlist(ganancias) )"
   ]
  }
 ],
 "metadata": {
  "kernelspec": {
   "display_name": "R",
   "language": "R",
   "name": "ir"
  },
  "language_info": {
   "codemirror_mode": "r",
   "file_extension": ".r",
   "mimetype": "text/x-r-source",
   "name": "R",
   "pygments_lexer": "r",
   "version": "3.6.1"
  }
 },
 "nbformat": 4,
 "nbformat_minor": 5
}
