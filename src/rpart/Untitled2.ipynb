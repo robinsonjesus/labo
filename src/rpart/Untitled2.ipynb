{
 "cells": [
  {
   "cell_type": "code",
   "execution_count": 2,
   "id": "9c4679f9",
   "metadata": {},
   "outputs": [
    {
     "data": {
      "text/html": [
       "<table>\n",
       "<thead><tr><th></th><th scope=col>used</th><th scope=col>(Mb)</th><th scope=col>gc trigger</th><th scope=col>(Mb)</th><th scope=col>max used</th><th scope=col>(Mb)</th></tr></thead>\n",
       "<tbody>\n",
       "\t<tr><th scope=row>Ncells</th><td> 640357  </td><td>34.2     </td><td>  2206072</td><td>117.9    </td><td>  2206072</td><td>117.9    </td></tr>\n",
       "\t<tr><th scope=row>Vcells</th><td>1277634  </td><td> 9.8     </td><td>106145265</td><td>809.9    </td><td>119544127</td><td>912.1    </td></tr>\n",
       "</tbody>\n",
       "</table>\n"
      ],
      "text/latex": [
       "\\begin{tabular}{r|llllll}\n",
       "  & used & (Mb) & gc trigger & (Mb) & max used & (Mb)\\\\\n",
       "\\hline\n",
       "\tNcells &  640357   & 34.2      &   2206072 & 117.9     &   2206072 & 117.9    \\\\\n",
       "\tVcells & 1277634   &  9.8      & 106145265 & 809.9     & 119544127 & 912.1    \\\\\n",
       "\\end{tabular}\n"
      ],
      "text/markdown": [
       "\n",
       "| <!--/--> | used | (Mb) | gc trigger | (Mb) | max used | (Mb) |\n",
       "|---|---|---|---|---|---|---|\n",
       "| Ncells |  640357   | 34.2      |   2206072 | 117.9     |   2206072 | 117.9     |\n",
       "| Vcells | 1277634   |  9.8      | 106145265 | 809.9     | 119544127 | 912.1     |\n",
       "\n"
      ],
      "text/plain": [
       "       used    (Mb) gc trigger (Mb)  max used  (Mb) \n",
       "Ncells  640357 34.2   2206072  117.9   2206072 117.9\n",
       "Vcells 1277634  9.8 106145265  809.9 119544127 912.1"
      ]
     },
     "metadata": {},
     "output_type": "display_data"
    }
   ],
   "source": [
    "rm( list=ls() )  #Borro todos los objetos\n",
    "gc()   #Garbage Collection\n",
    "\n",
    "#cargo las librerias que necesito\n",
    "require(\"data.table\")\n",
    "require(\"rpart\")\n",
    "require(\"rpart.plot\")\n",
    "\n",
    "#Aqui debe cambiar los parametros por los que desea probar"
   ]
  },
  {
   "cell_type": "code",
   "execution_count": 11,
   "id": "67a2e405",
   "metadata": {},
   "outputs": [],
   "source": [
    "# 15.8\n",
    "\n",
    "param_basicos  <- list( \"cp\"=          -0.9,  #complejidad minima\n",
    "                        \"minsplit\"=   1000,     #minima cantidad de registros en un nodo para hacer el split\n",
    "                        \"minbucket\"=  300,     #minima cantidad de registros en una hoja\n",
    "                        \"maxdepth\"=     7 )    #profundidad máxima del arbol"
   ]
  },
  {
   "cell_type": "code",
   "execution_count": 13,
   "id": "868a2cb8",
   "metadata": {},
   "outputs": [],
   "source": [
    "# 17.3\n",
    "\n",
    "param_basicos  <- list( \"cp\"=          -0.9,  #complejidad minima\n",
    "                        \"minsplit\"=   1801,     #minima cantidad de registros en un nodo para hacer el split\n",
    "                        \"minbucket\"=  330,     #minima cantidad de registros en una hoja\n",
    "                        \"maxdepth\"=     6.5 )    #profundidad máxima del arbol"
   ]
  },
  {
   "cell_type": "code",
   "execution_count": 15,
   "id": "396f035e",
   "metadata": {},
   "outputs": [],
   "source": [
    "# 17.26\n",
    "\n",
    "param_basicos  <- list( \"cp\"=          -0.9,  #complejidad minima\n",
    "                        \"minsplit\"=   1850,     #minima cantidad de registros en un nodo para hacer el split\n",
    "                        \"minbucket\"=  333,     #minima cantidad de registros en una hoja\n",
    "                        \"maxdepth\"=     6.5 )    #profundidad máxima del arbol"
   ]
  },
  {
   "cell_type": "code",
   "execution_count": 18,
   "id": "4ea6c0fd",
   "metadata": {},
   "outputs": [],
   "source": [
    "# 17.25\n",
    "\n",
    "param_basicos  <- list( \"cp\"=          -0.8,  #complejidad minima\n",
    "                        \"minsplit\"=   1853,     #minima cantidad de registros en un nodo para hacer el split\n",
    "                        \"minbucket\"=  323,     #minima cantidad de registros en una hoja\n",
    "                        \"maxdepth\"=     6.3 )    #profundidad máxima del arbol"
   ]
  },
  {
   "cell_type": "code",
   "execution_count": 20,
   "id": "7c7205df",
   "metadata": {},
   "outputs": [],
   "source": [
    "# 16.94\n",
    "\n",
    "param_basicos  <- list( \"cp\"=          -0.80,  #complejidad minima\n",
    "                        \"minsplit\"=   1823,     #minima cantidad de registros en un nodo para hacer el split\n",
    "                        \"minbucket\"=  323,     #minima cantidad de registros en una hoja\n",
    "                        \"maxdepth\"=     6.5 )    #profundidad máxima del arbol"
   ]
  },
  {
   "cell_type": "code",
   "execution_count": 28,
   "id": "07ef7303",
   "metadata": {},
   "outputs": [],
   "source": [
    "# 16.95\n",
    "\n",
    "param_basicos  <- list( \"cp\"=          -1,  #complejidad minima\n",
    "                        \"minsplit\"=   1823,     #minima cantidad de registros en un nodo para hacer el split\n",
    "                        \"minbucket\"=  290,     #minima cantidad de registros en una hoja\n",
    "                        \"maxdepth\"=     7.5 )    #profundidad máxima del arbol"
   ]
  },
  {
   "cell_type": "code",
   "execution_count": 32,
   "id": "4b844966",
   "metadata": {},
   "outputs": [],
   "source": [
    "# 16.94\n",
    "\n",
    "param_basicos  <- list( \"cp\"=          -1,  #complejidad minima\n",
    "                        \"minsplit\"=   1823,     #minima cantidad de registros en un nodo para hacer el split\n",
    "                        \"minbucket\"=  390,     #minima cantidad de registros en una hoja\n",
    "                        \"maxdepth\"=     6.5 )    #profundidad máxima del arbol"
   ]
  },
  {
   "cell_type": "code",
   "execution_count": 33,
   "id": "e13300b9",
   "metadata": {},
   "outputs": [
    {
     "name": "stderr",
     "output_type": "stream",
     "text": [
      "Warning message:\n",
      "\"labs do not fit even at cex 0.15, there may be some overplotting\""
     ]
    },
    {
     "data": {
      "image/png": "[encoded data removed]",
      "text/plain": [
       "plot without title"
      ]
     },
     "metadata": {},
     "output_type": "display_data"
    }
   ],
   "source": [
    "#Aqui se debe poner la carpeta de SU computadora local\n",
    "# setwd(\"D:\\\\gdrive\\\\ITBA2022A\\\\\")  #Establezco el Working Directory\n",
    "setwd(\"C:\\\\Users\\\\tomya\\\\Desktop\\\\Mineria de Datos\")\n",
    "\n",
    "#cargo los datos de 202011 que es donde voy a ENTRENAR el modelo\n",
    "dtrain  <- fread(\"./datasets/paquete_premium_202011.csv\")\n",
    "\n",
    "#genero el modelo,  aqui se construye el arbol\n",
    "modelo  <- rpart(\"clase_ternaria ~ .\",  #quiero predecir clase_ternaria a partir de el resto de las variables\n",
    "                 data = dtrain,\n",
    "                 xval=0,\n",
    "                 control=  param_basicos )\n",
    "\n",
    "#grafico el arbol\n",
    "prp(modelo, extra=101, digits=5, branch=1, type=4, varlen=0, faclen=0)\n",
    "\n",
    "\n",
    "#Ahora aplico al modelo  a los datos de 202101  y genero la salida para kaggle\n",
    "\n",
    "#cargo los datos de 202011, que es donde voy a APLICAR el modelo\n",
    "dapply  <- fread(\"./datasets/paquete_premium_202101.csv\")\n",
    "\n",
    "#aplico el modelo a los datos nuevos\n",
    "prediccion  <- predict( modelo, dapply , type = \"prob\")\n",
    "\n",
    "#prediccion es una matriz con TRES columnas, llamadas \"BAJA+1\", \"BAJA+2\"  y \"CONTINUA\"\n",
    "#cada columna es el vector de probabilidades \n",
    "\n",
    "#agrego a dapply una columna nueva que es la probabilidad de BAJA+2\n",
    "dapply[ , prob_baja2 := prediccion[, \"BAJA+2\"] ]\n",
    "\n",
    "#solo le envio estimulo a los registros con probabilidad de BAJA+2 mayor  a  1/60\n",
    "dapply[ , Predicted  := as.numeric(prob_baja2 > 1/60) ]\n",
    "\n",
    "#genero un dataset con las dos columnas que me interesan\n",
    "entrega  <- dapply[   , list(numero_de_cliente, Predicted) ] #genero la salida\n",
    "\n",
    "#genero el archivo para Kaggle\n",
    "#creo la carpeta donde va el experimento\n",
    "dir.create( \"./labo/exp/\", showWarnings = FALSE  )\n",
    "dir.create( \"./labo/exp/KA2022/\", showWarnings = FALSE  )\n",
    "\n",
    "fwrite( entrega, \n",
    "        file= \"./labo/exp/KA2022/K242_001.csv\", \n",
    "        sep= \",\" )"
   ]
  }
 ],
 "metadata": {
  "kernelspec": {
   "display_name": "R",
   "language": "R",
   "name": "ir"
  },
  "language_info": {
   "codemirror_mode": "r",
   "file_extension": ".r",
   "mimetype": "text/x-r-source",
   "name": "R",
   "pygments_lexer": "r",
   "version": "3.6.1"
  }
 },
 "nbformat": 4,
 "nbformat_minor": 5
}
