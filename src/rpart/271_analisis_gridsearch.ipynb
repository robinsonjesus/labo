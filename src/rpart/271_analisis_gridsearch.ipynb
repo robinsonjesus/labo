{
 "cells": [
  {
   "cell_type": "code",
   "execution_count": 3,
   "id": "d06c4d23",
   "metadata": {},
   "outputs": [
    {
     "data": {
      "text/html": [
       "<table>\n",
       "<thead><tr><th></th><th scope=col>used</th><th scope=col>(Mb)</th><th scope=col>gc trigger</th><th scope=col>(Mb)</th><th scope=col>max used</th><th scope=col>(Mb)</th></tr></thead>\n",
       "<tbody>\n",
       "\t<tr><th scope=row>Ncells</th><td> 612329</td><td>32.8   </td><td>1141184</td><td>61     </td><td>1141184</td><td>61.0   </td></tr>\n",
       "\t<tr><th scope=row>Vcells</th><td>1144545</td><td> 8.8   </td><td>8388608</td><td>64     </td><td>1951725</td><td>14.9   </td></tr>\n",
       "</tbody>\n",
       "</table>\n"
      ],
      "text/latex": [
       "\\begin{tabular}{r|llllll}\n",
       "  & used & (Mb) & gc trigger & (Mb) & max used & (Mb)\\\\\n",
       "\\hline\n",
       "\tNcells &  612329 & 32.8    & 1141184 & 61      & 1141184 & 61.0   \\\\\n",
       "\tVcells & 1144545 &  8.8    & 8388608 & 64      & 1951725 & 14.9   \\\\\n",
       "\\end{tabular}\n"
      ],
      "text/markdown": [
       "\n",
       "| <!--/--> | used | (Mb) | gc trigger | (Mb) | max used | (Mb) |\n",
       "|---|---|---|---|---|---|---|\n",
       "| Ncells |  612329 | 32.8    | 1141184 | 61      | 1141184 | 61.0    |\n",
       "| Vcells | 1144545 |  8.8    | 8388608 | 64      | 1951725 | 14.9    |\n",
       "\n"
      ],
      "text/plain": [
       "       used    (Mb) gc trigger (Mb) max used (Mb)\n",
       "Ncells  612329 32.8 1141184    61   1141184  61.0\n",
       "Vcells 1144545  8.8 8388608    64   1951725  14.9"
      ]
     },
     "metadata": {},
     "output_type": "display_data"
    },
    {
     "data": {
      "text/html": [
       "<strong>png:</strong> 2"
      ],
      "text/latex": [
       "\\textbf{png:} 2"
      ],
      "text/markdown": [
       "**png:** 2"
      ],
      "text/plain": [
       "png \n",
       "  2 "
      ]
     },
     "metadata": {},
     "output_type": "display_data"
    }
   ],
   "source": [
    "rm( list=ls() )  #Borro todos los objetos\n",
    "gc()   #Garbage Collection\n",
    "\n",
    "#cargo las librerias que necesito\n",
    "require(\"data.table\")\n",
    "require(\"rpart\")\n",
    "require(\"rpart.plot\")\n",
    "\n",
    "#Aqui se debe poner la carpeta de SU computadora local\n",
    "setwd(\"C:\\\\Users\\\\tomya\\\\Desktop\\\\Mineria de Datos\")  #Establezco el Working Directory\n",
    "\n",
    "#cargo la salida del Grid Seach, verifique que corresponda a la carpeta donde dejó el resultado\n",
    "dtrain  <- fread(\"./labo/exp/HT2020/gridsearch.txt\")\n",
    "\n",
    "#genero el modelo,  aqui se construye el arbol\n",
    "#este sera un arbol de REGRESION ya que la variable objetivo, ganancia_promedio,  es una variable continua\n",
    "modelo  <- rpart(\"ganancia_promedio ~ .\",  #quiero predecir clase_ternaria a partir de el resto de las variables\n",
    "                 data = dtrain,\n",
    "                 xval=0,\n",
    "                 cp=         0,\n",
    "                 minsplit=  50,     #minima cantidad de registros para que se haga el split\n",
    "                 minbucket= 10,     #tamaño minimo de una hoja\n",
    "                 maxdepth=   4 )    #profundidad maxima del arbol\n",
    "\n",
    "\n",
    "#grafico el arbol\n",
    "\n",
    "#primero creo la carpeta a donde voy a guardar el dibujo del arbol\n",
    "dir.create( \"./labo/exp/\",  showWarnings = FALSE ) \n",
    "dir.create( \"./labo/exp/ST2030/\", showWarnings = FALSE )\n",
    "archivo_salida  <- \"./labo/exp/ST2030/arbol_analisis_gridsearch.pdf\"\n",
    "\n",
    "#finalmente, genero el grafico guardandolo en un archivo pdf\n",
    "pdf( archivo_salida, paper=\"a4r\" )\n",
    "prp(modelo, extra=101, digits=5, branch=1, type=4, varlen=0, faclen=0)\n",
    "dev.off()"
   ]
  }
 ],
 "metadata": {
  "kernelspec": {
   "display_name": "R",
   "language": "R",
   "name": "ir"
  },
  "language_info": {
   "codemirror_mode": "r",
   "file_extension": ".r",
   "mimetype": "text/x-r-source",
   "name": "R",
   "pygments_lexer": "r",
   "version": "3.6.1"
  }
 },
 "nbformat": 4,
 "nbformat_minor": 5
}
