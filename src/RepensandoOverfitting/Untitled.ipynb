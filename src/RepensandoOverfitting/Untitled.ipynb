{
 "cells": [
  {
   "cell_type": "code",
   "execution_count": 4,
   "id": "edea2649",
   "metadata": {},
   "outputs": [
    {
     "name": "stderr",
     "output_type": "stream",
     "text": [
      "Installing package into 'C:/Users/Tomás García/Documents/R/win-library/3.6'\n",
      "(as 'lib' is unspecified)\n"
     ]
    },
    {
     "name": "stdout",
     "output_type": "stream",
     "text": [
      "\n",
      "  There is a binary version available but the source version is later:\n",
      "           binary source needs_compilation\n",
      "rpart.plot  3.0.9  3.1.1             FALSE\n",
      "\n"
     ]
    },
    {
     "name": "stderr",
     "output_type": "stream",
     "text": [
      "installing the source package 'rpart.plot'\n",
      "\n",
      "Warning message in install.packages(\"rpart.plot\"):\n",
      "\"installation of package 'rpart.plot' had non-zero exit status\""
     ]
    }
   ],
   "source": [
    "install.packages(\"rpart.plot\")"
   ]
  },
  {
   "cell_type": "code",
   "execution_count": 5,
   "id": "a93e40ba",
   "metadata": {},
   "outputs": [
    {
     "data": {
      "text/html": [
       "<table>\n",
       "<thead><tr><th></th><th scope=col>used</th><th scope=col>(Mb)</th><th scope=col>gc trigger</th><th scope=col>(Mb)</th><th scope=col>max used</th><th scope=col>(Mb)</th></tr></thead>\n",
       "<tbody>\n",
       "\t<tr><th scope=row>Ncells</th><td> 611273  </td><td>32.7     </td><td>  1409470</td><td> 75.3    </td><td>  1409470</td><td>  75.3   </td></tr>\n",
       "\t<tr><th scope=row>Vcells</th><td>1370794  </td><td>10.5     </td><td>105255808</td><td>803.1    </td><td>131639305</td><td>1004.4   </td></tr>\n",
       "</tbody>\n",
       "</table>\n"
      ],
      "text/latex": [
       "\\begin{tabular}{r|llllll}\n",
       "  & used & (Mb) & gc trigger & (Mb) & max used & (Mb)\\\\\n",
       "\\hline\n",
       "\tNcells &  611273   & 32.7      &   1409470 &  75.3     &   1409470 &   75.3   \\\\\n",
       "\tVcells & 1370794   & 10.5      & 105255808 & 803.1     & 131639305 & 1004.4   \\\\\n",
       "\\end{tabular}\n"
      ],
      "text/markdown": [
       "\n",
       "| <!--/--> | used | (Mb) | gc trigger | (Mb) | max used | (Mb) |\n",
       "|---|---|---|---|---|---|---|\n",
       "| Ncells |  611273   | 32.7      |   1409470 |  75.3     |   1409470 |   75.3    |\n",
       "| Vcells | 1370794   | 10.5      | 105255808 | 803.1     | 131639305 | 1004.4    |\n",
       "\n"
      ],
      "text/plain": [
       "       used    (Mb) gc trigger (Mb)  max used  (Mb)  \n",
       "Ncells  611273 32.7   1409470   75.3   1409470   75.3\n",
       "Vcells 1370794 10.5 105255808  803.1 131639305 1004.4"
      ]
     },
     "metadata": {},
     "output_type": "display_data"
    },
    {
     "ename": "ERROR",
     "evalue": "Error in library(\"rpart.plot\"): there is no package called 'rpart.plot'\n",
     "output_type": "error",
     "traceback": [
      "Error in library(\"rpart.plot\"): there is no package called 'rpart.plot'\nTraceback:\n",
      "1. library(\"rpart.plot\")"
     ]
    }
   ],
   "source": [
    "#limpio la memoria\n",
    "rm( list=ls() )\n",
    "gc()\n",
    "\n",
    "library(\"data.table\")\n",
    "library(\"rpart\")\n",
    "library(\"rpart.plot\")\n",
    "\n",
    "setwd( \"C:\\\\Users\\\\Tomás García\\\\Documents\\\\MD\" )  #establezco la carpeta donde voy a trabajar\n",
    "#cargo el dataset\n",
    "dataset  <- fread( \"./datasets/paquete_premium_202011.csv\")\n",
    "\n",
    "\n",
    "#uso esta semilla para los canaritos\n",
    "set.seed(102191)\n",
    "\n",
    "#agrego una variable canarito, random distribucion uniforme en el intervalo [0,1]\n",
    "dataset[ ,  canarito1 :=  runif( nrow(dataset) ) ]\n",
    "\n",
    "#agrego los siguientes canaritos\n",
    "for( i in 1:30 ) dataset[ , paste0(\"canarito\", i ) :=  runif( nrow(dataset)) ]\n",
    "\n",
    "\n",
    "#Primero  veo como quedan mis arboles\n",
    "modelo  <- rpart(formula= \"clase_ternaria ~ . \",\n",
    "                 data= dataset[,],\n",
    "                 model= TRUE,\n",
    "                 xval= 0,\n",
    "                 cp= 0, \n",
    "                 minsplit= 10, \n",
    "                 maxdepth= 10)\n",
    "\n",
    "#creo la carepta donde guardo el resultado\n",
    "dir.create( \"./labo/exp/\",  showWarnings = FALSE ) \n",
    "dir.create( \"./labo/exp/ST5210/\", showWarnings = FALSE )\n",
    "setwd(\"C:\\\\Users\\\\Tomás García\\\\Documents\\\\MD\\\\labo\\\\exp\\\\ST5210\\\\\")   #Establezco el Working Directory DEL EXPERIMENTO\n",
    "\n",
    "#genero la imagen del arbol\n",
    "pdf( file= \"arbol_canaritos.pdf\", width=20, height=4)\n",
    "prp(modelo, extra=101, digits=5, branch=1, type=4, varlen=0, faclen=0)\n",
    "dev.off()"
   ]
  }
 ],
 "metadata": {
  "kernelspec": {
   "display_name": "R",
   "language": "R",
   "name": "ir"
  },
  "language_info": {
   "codemirror_mode": "r",
   "file_extension": ".r",
   "mimetype": "text/x-r-source",
   "name": "R",
   "pygments_lexer": "r",
   "version": "3.6.1"
  }
 },
 "nbformat": 4,
 "nbformat_minor": 5
}
