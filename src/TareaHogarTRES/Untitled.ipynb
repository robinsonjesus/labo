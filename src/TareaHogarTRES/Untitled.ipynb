{
 "cells": [
  {
   "cell_type": "code",
   "execution_count": 1,
   "id": "4cc3d499",
   "metadata": {},
   "outputs": [
    {
     "data": {
      "text/html": [
       "<table>\n",
       "<thead><tr><th></th><th scope=col>used</th><th scope=col>(Mb)</th><th scope=col>gc trigger</th><th scope=col>(Mb)</th><th scope=col>max used</th><th scope=col>(Mb)</th></tr></thead>\n",
       "<tbody>\n",
       "\t<tr><th scope=row>Ncells</th><td>508058 </td><td>27.2   </td><td>1140631</td><td>61     </td><td> 621925</td><td>33.3   </td></tr>\n",
       "\t<tr><th scope=row>Vcells</th><td>938064 </td><td> 7.2   </td><td>8388608</td><td>64     </td><td>1601596</td><td>12.3   </td></tr>\n",
       "</tbody>\n",
       "</table>\n"
      ],
      "text/latex": [
       "\\begin{tabular}{r|llllll}\n",
       "  & used & (Mb) & gc trigger & (Mb) & max used & (Mb)\\\\\n",
       "\\hline\n",
       "\tNcells & 508058  & 27.2    & 1140631 & 61      &  621925 & 33.3   \\\\\n",
       "\tVcells & 938064  &  7.2    & 8388608 & 64      & 1601596 & 12.3   \\\\\n",
       "\\end{tabular}\n"
      ],
      "text/markdown": [
       "\n",
       "| <!--/--> | used | (Mb) | gc trigger | (Mb) | max used | (Mb) |\n",
       "|---|---|---|---|---|---|---|\n",
       "| Ncells | 508058  | 27.2    | 1140631 | 61      |  621925 | 33.3    |\n",
       "| Vcells | 938064  |  7.2    | 8388608 | 64      | 1601596 | 12.3    |\n",
       "\n"
      ],
      "text/plain": [
       "       used   (Mb) gc trigger (Mb) max used (Mb)\n",
       "Ncells 508058 27.2 1140631    61    621925  33.3\n",
       "Vcells 938064  7.2 8388608    64   1601596  12.3"
      ]
     },
     "metadata": {},
     "output_type": "display_data"
    },
    {
     "name": "stderr",
     "output_type": "stream",
     "text": [
      "Loading required package: data.table\n",
      "Warning message:\n",
      "\"package 'data.table' was built under R version 3.6.3\"Loading required package: lightgbm\n",
      "Warning message:\n",
      "\"package 'lightgbm' was built under R version 3.6.3\""
     ]
    }
   ],
   "source": [
    "# LightGBM  Motivacional\n",
    "# para motivar a los alumnos a hacer la  \"Tarea Hogar TRES\"\n",
    "\n",
    "# para correr en Google Cloud\n",
    "#   8 vCPU\n",
    "#  64 GB memoria RAM\n",
    "# 256 GB espacio en disco\n",
    "\n",
    "# el resultado queda en  el bucket en  ./exp/KA6520/ \n",
    "# son varios archivos, subirlos inteligentemente a Kaggle\n",
    "\n",
    "# limpio la memoria\n",
    "rm( list=ls() )  #remove all objects\n",
    "gc()             #garbage collection\n",
    "\n",
    "require(\"data.table\")\n",
    "require(\"lightgbm\")\n",
    "\n",
    "\n",
    "# Aquí se debe poner la carpeta de la computadora local, si estoy en cloud es el bucket\n",
    "# setwd(\"~/buckets/b1/\")   #Establezco el Working Directory\n",
    "\n",
    "setwd(\"C:\\\\Users\\\\Tomás García\\\\Documents\\\\MD\\\\\")\n"
   ]
  },
  {
   "cell_type": "code",
   "execution_count": 3,
   "id": "e89d984d",
   "metadata": {},
   "outputs": [],
   "source": [
    "#cargo el dataset donde voy a entrenar\n",
    "dataset  <- fread(\"./datasets/paquete_premium_202101.csv\", stringsAsFactors= TRUE)\n",
    "\n",
    "\n",
    "# --------------------------------------\n",
    "\n",
    "# ordeno el dataset por  < numero_de_cliente, foto_mes > ´para calcular los lags\n",
    "setorder( dataset, numero_de_cliente, foto_mes )\n",
    "\n",
    "# creo los campos lags de orden 1\n",
    "columnas_lag  <- setdiff( colnames(dataset), c(\"numero_de_cliente\",\"foto_mes\",\"clase_ternaria\") )\n",
    "\n",
    "nlag  <- 1      #orden del lag\n",
    "\n",
    "sufijo  <- \"_lag1\"\n",
    "\n",
    "dataset[ , paste0( columnas_lag, sufijo) := shift( .SD, nlag, NA, \"lag\"), \n",
    "           by = numero_de_cliente, \n",
    "           .SDcols= columnas_lag ]\n"
   ]
  },
  {
   "cell_type": "code",
   "execution_count": 5,
   "id": "7e82b641",
   "metadata": {},
   "outputs": [],
   "source": [
    "x <- c(1, 5, 3, 1, 2, 9)              # Example vector 1\n",
    "y <- c(7, 6, 8, 9, 5, 5, 5, 3)        # Example vector 2"
   ]
  },
  {
   "cell_type": "code",
   "execution_count": 6,
   "id": "d862dbbc",
   "metadata": {},
   "outputs": [
    {
     "data": {
      "text/html": [
       "<ol class=list-inline>\n",
       "\t<li>1</li>\n",
       "\t<li>2</li>\n",
       "</ol>\n"
      ],
      "text/latex": [
       "\\begin{enumerate*}\n",
       "\\item 1\n",
       "\\item 2\n",
       "\\end{enumerate*}\n"
      ],
      "text/markdown": [
       "1. 1\n",
       "2. 2\n",
       "\n",
       "\n"
      ],
      "text/plain": [
       "[1] 1 2"
      ]
     },
     "metadata": {},
     "output_type": "display_data"
    }
   ],
   "source": [
    "setdiff(x, y)                         # Apply setdiff function in R\n",
    "# 1 2"
   ]
  },
  {
   "cell_type": "code",
   "execution_count": null,
   "id": "d353c0fc",
   "metadata": {},
   "outputs": [],
   "source": [
    "# LightGBM  Motivacional\n",
    "# para motivar a los alumnos a hacer la  \"Tarea Hogar TRES\"\n",
    "\n",
    "# para correr en Google Cloud\n",
    "#   8 vCPU\n",
    "#  64 GB memoria RAM\n",
    "# 256 GB espacio en disco\n",
    "\n",
    "# el resultado queda en  el bucket en  ./exp/KA6520/ \n",
    "# son varios archivos, subirlos inteligentemente a Kaggle\n",
    "\n",
    "# limpio la memoria\n",
    "rm( list=ls() )  #remove all objects\n",
    "gc()             #garbage collection\n",
    "\n",
    "require(\"data.table\")\n",
    "require(\"lightgbm\")\n",
    "\n",
    "\n",
    "# Aquí se debe poner la carpeta de la computadora local, si estoy en cloud es el bucket\n",
    "setwd(\"~/buckets/b1/\")   #Establezco el Working Directory\n",
    "\n",
    "#cargo el dataset donde voy a entrenar\n",
    "dataset  <- fread(\"./datasets/paquete_premium.csv.gz\", stringsAsFactors= TRUE)\n",
    "\n",
    "\n",
    "# --------------------------------------\n",
    "\n",
    "# ordeno el dataset por  < numero_de_cliente, foto_mes > ´para calcular los lags\n",
    "setorder( dataset, numero_de_cliente, foto_mes )\n",
    "\n",
    "# creo los campos lags de orden 1\n",
    "columnas_lag  <- setdiff( colnames(dataset), c(\"numero_de_cliente\",\"foto_mes\",\"clase_ternaria\") )\n",
    "nlag  <- 1      #orden del lag\n",
    "sufijo  <- \"_lag1\"\n",
    "dataset[ , paste0( columnas_lag, sufijo) := shift( .SD, nlag, NA, \"lag\"), \n",
    "           by = numero_de_cliente, \n",
    "           .SDcols= columnas_lag ]\n",
    "\n",
    "# creo los delta lags\n",
    "sufijodelta  <- paste0( \"_delta\", nlag )\n",
    "\n",
    "# uso un espantoso for para crear los delta lags\n",
    "for( vcol in columnas_lag )\n",
    "{\n",
    "  dataset[,  paste0(vcol, sufijodelta) := get( vcol)  - get(paste0( vcol, sufijo))]\n",
    "}\n",
    "\n",
    "# --------------------------------------\n",
    "\n",
    "# paso la clase a binaria que tome valores {0,1}  enteros\n",
    "# set trabaja con la clase  POS = { BAJA+1, BAJA+2 } \n",
    "# esta estrategia es MUY importante\n",
    "dataset[ , clase01 := ifelse( clase_ternaria %in%  c(\"BAJA+2\",\"BAJA+1\"), 1L, 0L) ]\n",
    "\n",
    "# --------------------------------------\n",
    "\n",
    "# los campos que se van a utilizar\n",
    "campos_buenos  <- setdiff( colnames(dataset), c(\"clase_ternaria\",\"clase01\") )\n",
    "\n",
    "# establezco donde entreno, desde enero a noviembre,  SIN  junio-2020\n",
    "# entreno en la UNION de 11 meses\n",
    "dataset[ , train  := 0L ]\n",
    "dataset[ foto_mes >= 202001 & foto_mes<=202011 & foto_mes != 202006, \n",
    "         train  := 1L ]\n",
    "\n",
    "# --------------------------------------\n",
    "# creo las carpetas donde van los resultados\n",
    "dir.create( \"./exp/\",  showWarnings = FALSE ) \n",
    "dir.create( \"./exp/KA6520/\", showWarnings = FALSE )\n",
    "setwd( \"./exp/KA6520/\" )\n",
    "\n",
    "\n",
    "# dejo los datos en el formato que necesita LightGBM\n",
    "dtrain  <- lgb.Dataset( data= data.matrix(  dataset[ train==1L, campos_buenos, with=FALSE]),\n",
    "                        label= dataset[ train==1L, clase01] )\n",
    "\n",
    "# genero el modelo\n",
    "# estos hiperparametros  salieron de una laaarga Optmizacion Bayesiana\n",
    "modelo  <- lgb.train( data= dtrain,\n",
    "                      param= list( objective=        \"binary\",\n",
    "                                   max_bin=              31,\n",
    "                                   learning_rate=         0.0300696989,\n",
    "                                   num_iterations=      567,\n",
    "                                   num_leaves=         1002,\n",
    "                                   min_data_in_leaf=   6263,\n",
    "                                   feature_fraction=      0.9100319271,\n",
    "                                   seed=             102191\n",
    "                                  )\n",
    "                    )\n",
    "\n",
    "#--------------------------------------\n",
    "#ahora imprimo la importancia de variables\n",
    "tb_importancia  <-  as.data.table( lgb.importance(modelo) ) \n",
    "archivo_importancia  <- \"652_importancia_001.txt\"\n",
    "\n",
    "fwrite( tb_importancia, \n",
    "        file= archivo_importancia, \n",
    "        sep= \"\\t\" )\n",
    "\n",
    "#--------------------------------------\n",
    "\n",
    "\n",
    "#aplico el modelo a los datos sin clase\n",
    "dapply  <- dataset[ foto_mes== 202101 ]\n",
    "\n",
    "#aplico el modelo a los datos nuevos\n",
    "prediccion  <- predict( modelo, \n",
    "                        data.matrix( dapply[, campos_buenos, with=FALSE ])                                 )\n",
    "\n",
    "#genero la tabla de entrega\n",
    "tb_entrega  <-  dapply[ , list( numero_de_cliente ) ]\n",
    "tb_entrega[  , prob := prediccion ]\n",
    "\n",
    "#ordeno por probabilidad descendente\n",
    "setorder( tb_entrega, -prob )\n",
    "\n",
    "\n",
    "#genero archivos con los  \"envios\" mejores\n",
    "#deben subirse \"inteligentemente\" a Kaggle para no malgastar submits\n",
    "for( envios  in  c( 10000, 10500, 11000, 11500, 12000, 12500, 13000, 13500 ) )\n",
    "{\n",
    "  tb_entrega[  , Predicted := 0L ]\n",
    "  tb_entrega[ 1:envios, Predicted := 1L ]\n",
    "\n",
    "  fwrite( tb_entrega[ , list(numero_de_cliente, Predicted)], \n",
    "          file= paste0( \"KA_652_\", envios, \".csv\" ),\n",
    "          sep= \",\" )\n",
    "}\n",
    "\n",
    "#--------------------------------------\n"
   ]
  }
 ],
 "metadata": {
  "kernelspec": {
   "display_name": "R",
   "language": "R",
   "name": "ir"
  },
  "language_info": {
   "codemirror_mode": "r",
   "file_extension": ".r",
   "mimetype": "text/x-r-source",
   "name": "R",
   "pygments_lexer": "r",
   "version": "3.6.1"
  }
 },
 "nbformat": 4,
 "nbformat_minor": 5
}
